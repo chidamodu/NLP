{
 "cells": [
  {
   "cell_type": "code",
   "execution_count": null,
   "metadata": {},
   "outputs": [],
   "source": [
    "Which of the following techniques can be used for the purpose of keyword normalization, the process of converting a keyword into its base form?\n",
    "\n",
    "Lemmatization\n",
    "Levenshtein\n",
    "Stemming\n",
    "Soundex\n",
    "\n",
    "Solution: (C)"
   ]
  },
  {
   "cell_type": "code",
   "execution_count": null,
   "metadata": {},
   "outputs": [],
   "source": [
    "N-grams are defined as the combination of N keywords together. How many bi-grams can be generated from given sentence:\n",
    "\n",
    "“Analytics Vidhya is a great source to learn data science”\n",
    "\n",
    "Solution: (C)"
   ]
  },
  {
   "cell_type": "code",
   "execution_count": null,
   "metadata": {},
   "outputs": [],
   "source": [
    "How many trigrams phrases can be generated from the following sentence, after performing following text cleaning steps:\n",
    "\n",
    "Stopword Removal\n",
    "Replacing punctuations by a single space\n",
    "“#Analytics-vidhya is a great source to learn @data_science.”\n",
    "\n",
    "\n",
    "Solution: (C)\n",
    "\n",
    "After performing stopword removal and punctuation replacement the text becomes: “Analytics vidhya great source learn data science”\n",
    "\n",
    "Trigrams – Analytics vidhya great, vidhya great source, great source learn, source learn data, learn data science"
   ]
  },
  {
   "cell_type": "code",
   "execution_count": null,
   "metadata": {},
   "outputs": [],
   "source": [
    "Which of the following regular expression can be used to identify date(s) present in the text object:\n",
    "\n",
    "“The next meetup on data science will be held on 2017-09-21, previously it happened on 31/03, 2016”\n",
    "\n",
    "A) \\d{4}-\\d{2}-\\d{2}\n",
    "B) (19|20)\\d{2}-(0[1-9]|1[0-2])-[0-2][1-9] C) (19|20)\\d{2}-(0[1-9]|1[0-2])-([0-2][1-9]|3[0-1])\n",
    "D) None of the above\n",
    "\n",
    "Solution: (D)\n",
    "\n",
    "None if these expressions would be able to identify the dates in this text object."
   ]
  },
  {
   "cell_type": "code",
   "execution_count": null,
   "metadata": {},
   "outputs": [],
   "source": [
    "Question Context 5-6:\n",
    "\n",
    "You have collected a data of about 10,000 rows of tweet text and no other information. You want to create a tweet classification model that categorizes each of the tweets in three buckets – positive, negative and neutral.\n",
    "\n",
    "5) Which of the following models can perform tweet classification with regards to context mentioned above?\n",
    "\n",
    "A) Naive Bayes\n",
    "B) SVM\n",
    "C) None of the above\n",
    "\n",
    "Solution: (C)\n",
    "\n",
    "Since, you are given only the data of tweets and no other information, which means there is no target variable present. One cannot train a supervised learning model, both svm and naive bayes are supervised learning techniques.\n",
    "\n",
    " "
   ]
  },
  {
   "cell_type": "code",
   "execution_count": null,
   "metadata": {},
   "outputs": [],
   "source": [
    "You have created a document term matrix of the data, treating every tweet as one document. Which of the following is \n",
    "correct, in regards to document term matrix?\n",
    "\n",
    "Removal of stopwords from the data will affect the dimensionality of data\n",
    "Normalization of words in the data will reduce the dimensionality of data\n",
    "Converting all the words in lowercase will not affect the dimensionality of the data\n",
    "A) Only 1\n",
    "B) Only 2\n",
    "C) Only 3\n",
    "D) 1 and 2\n",
    "E) 2 and 3\n",
    "F) 1, 2 and 3\n",
    "\n",
    "Solution: (D)\n",
    "\n",
    "Choices A and B are correct because stopword removal will decrease the number of features in the matrix, \n",
    "normalization of words will also reduce redundant features, and, converting all words to lowercase will also decrease \n",
    "the dimensionality."
   ]
  },
  {
   "cell_type": "code",
   "execution_count": null,
   "metadata": {},
   "outputs": [],
   "source": [
    "Which of the following features can be used for accuracy improvement of a classification model?\n",
    "\n",
    "A) Frequency count of terms\n",
    "B) Vector Notation of sentence\n",
    "C) Part of Speech Tag\n",
    "D) Dependency Grammar\n",
    "E) All of these\n",
    "\n",
    "Solution: (E)\n",
    "\n",
    "All of the techniques can be used for the purpose of engineering features in a model."
   ]
  },
  {
   "cell_type": "code",
   "execution_count": null,
   "metadata": {},
   "outputs": [],
   "source": [
    "What percentage of the total statements are correct with regards to Topic Modeling?\n",
    "\n",
    "It is a supervised learning technique\n",
    "LDA (Linear Discriminant Analysis) can be used to perform topic modeling\n",
    "Selection of number of topics in a model does not depend on the size of data\n",
    "Number of topic terms are directly proportional to size of the data\n",
    "A) 0\n",
    "B) 25\n",
    "C) 50\n",
    "D) 75\n",
    "E) 100\n",
    "\n",
    "Solution: (A)\n",
    "\n",
    "LDA is unsupervised learning model, LDA is latent Dirichlet allocation, not Linear discriminant analysis. Selection of the number of topics is directly proportional to the size of the data, while number of topic terms is not directly proportional to the size of the data. Hence none of the statements are correct.\n",
    "\n"
   ]
  },
  {
   "cell_type": "code",
   "execution_count": null,
   "metadata": {},
   "outputs": [],
   "source": [
    "\n",
    "9) In Latent Dirichlet Allocation model for text classification purposes, what does alpha and beta hyperparameter represent-\n",
    "\n",
    "A) Alpha: number of topics within documents, beta: number of terms within topics False\n",
    "B) Alpha: density of terms generated within topics, beta: density of topics generated within terms False\n",
    "C) Alpha: number of topics within documents, beta: number of terms within topics False\n",
    "D) Alpha: density of topics generated within documents, beta: density of terms generated within topics True\n",
    "\n",
    "Solution: (D)\n",
    "\n",
    "Option D is correct"
   ]
  },
  {
   "cell_type": "code",
   "execution_count": null,
   "metadata": {},
   "outputs": [],
   "source": [
    "Solve the equation according to the sentence “I am planning to visit New Delhi to attend Analytics Vidhya Delhi Hackathon”.\n",
    "\n",
    "A = (# of words with Noun as the part of speech tag)\n",
    "B = (# of words with Verb as the part of speech tag)\n",
    "C = (# of words with frequency count greater than one)\n",
    "\n",
    "What are the correct values of A, B, and C?\n",
    "\n",
    "A) 5, 5, 2\n",
    "B) 5, 5, 0\n",
    "C) 7, 5, 1\n",
    "D) 7, 4, 2\n",
    "E) 6, 4, 3\n",
    "\n",
    "Solution: (D)\n",
    "\n",
    "Nouns: I, New, Delhi, Analytics, Vidhya, Delhi, Hackathon (7)\n",
    "\n",
    "Verbs: am, planning, visit, attend (4)\n",
    "\n",
    "Words with frequency counts > 1: to, Delhi (2)\n",
    "\n",
    "Hence option D is correct."
   ]
  },
  {
   "cell_type": "code",
   "execution_count": null,
   "metadata": {},
   "outputs": [],
   "source": [
    "In a corpus of N documents, one document is randomly picked. The document contains a total of T terms and the term “data” appears K times.\n",
    "\n",
    "What is the correct value for the product of TF (term frequency) and IDF (inverse-document-frequency), if the term “data” appears in approximately one-third of the total documents?\n",
    "\n",
    "A) KT * Log(3)\n",
    "B) K * Log(3) / T\n",
    "C) T * Log(3) / K\n",
    "D) Log(3) / KT\n",
    "\n",
    "Solution: (B)\n",
    "\n",
    "formula for TF is K/T\n",
    "\n",
    "formula for IDF is log(total docs / no of docs containing “data”)\n",
    "\n",
    "= log(1 / (⅓))\n",
    "\n",
    "= log (3)\n",
    "\n",
    "Hence correct choice is Klog(3)/T"
   ]
  },
  {
   "cell_type": "code",
   "execution_count": null,
   "metadata": {},
   "outputs": [],
   "source": [
    "Question Context 12 to 14:\n",
    "\n",
    "Refer the following document term matrix\n",
    "\n",
    "\n",
    "12) Which of the following documents contains the same number of terms and the number of terms in the one of the document is not equal to least number of terms in any document in the entire corpus.\n",
    "\n",
    "A) d1 and d4\n",
    "B) d6 and d7\n",
    "C) d2 and d4\n",
    "D) d5 and d6\n",
    "\n",
    "Solution: (C)\n",
    "\n",
    "Both of the documents d2 and d4 contains 4 terms and does not contain the least number of terms which is 3.\n",
    "\n"
   ]
  },
  {
   "cell_type": "code",
   "execution_count": null,
   "metadata": {},
   "outputs": [],
   "source": [
    "13) Which are the most common and the rarest term of the corpus?\n",
    "\n",
    "A) t4, t6\n",
    "B) t3, t5\n",
    "C) t5, t1\n",
    "D) t5, t6\n",
    "\n",
    "Solution: (A)\n",
    "\n",
    "T5 is most common terms across 5 out of 7 documents, T6 is rare term only appears in d3 and d4\n",
    "\n",
    " "
   ]
  },
  {
   "cell_type": "code",
   "execution_count": null,
   "metadata": {},
   "outputs": [],
   "source": [
    "14) What is the term frequency of a term which is used a maximum number of times in that document?\n",
    "\n",
    "A) t6 – 2/5\n",
    "B) t3 – 3/6\n",
    "C) t4 – 2/6\n",
    "D) t1 – 2/6\n",
    "\n",
    "Solution: (B)\n",
    "\n",
    "t3 is used max times in entire corpus = 3, tf for t3 is 3/6\n",
    "\n",
    " \n"
   ]
  },
  {
   "cell_type": "code",
   "execution_count": null,
   "metadata": {},
   "outputs": [],
   "source": [
    "\n",
    "15) Which of the following technique is not a part of flexible text matching?\n",
    "\n",
    "A) Soundex\n",
    "B) Metaphone\n",
    "C) Edit Distance\n",
    "D) Keyword Hashing\n",
    "\n",
    "Solution: (D)\n",
    "\n",
    "Except Keyword Hashing all other are the techniques used in flexible string matching"
   ]
  },
  {
   "cell_type": "code",
   "execution_count": null,
   "metadata": {},
   "outputs": [],
   "source": [
    "True or False: Word2Vec model is a machine learning model used to create vector notations of text objects. Word2vec contains multiple deep neural networks\n",
    "\n",
    "A) TRUE\n",
    "B) FALSE\n",
    "\n",
    "Solution: (B)\n",
    "\n",
    "Word2vec also contains preprocessing model which is not a deep neural network\n",
    "\n",
    " "
   ]
  },
  {
   "cell_type": "code",
   "execution_count": null,
   "metadata": {},
   "outputs": [],
   "source": [
    "Which of the following statement is(are) true for Word2Vec model?\n",
    "\n",
    "A) The architecture of word2vec consists of only two layers – continuous bag of words and skip-gram model\n",
    "B) Continuous bag of word (CBOW) is a Recurrent Neural Network model\n",
    "C) Both CBOW and Skip-gram are shallow neural network models\n",
    "D) All of the above\n",
    "\n",
    "Solution: (C)\n",
    "\n",
    "Word2vec contains the Continuous bag of words and skip-gram models, which are deep neural nets.\n",
    "\n",
    " "
   ]
  },
  {
   "cell_type": "code",
   "execution_count": null,
   "metadata": {},
   "outputs": [],
   "source": [
    "With respect to this context-free dependency graphs, how many sub-trees exists in the sentence?\n",
    "\n",
    "\n",
    "A) 3\n",
    "B) 4\n",
    "C) 5\n",
    "D) 6\n",
    "\n",
    "Solution: (D)\n",
    "\n",
    "Subtrees in the dependency graph can be viewed as nodes having an outward link, for example:\n",
    "\n",
    "Media, networking, play, role, billions, and lives are the roots of subtrees\n",
    "\n",
    " "
   ]
  },
  {
   "cell_type": "code",
   "execution_count": null,
   "metadata": {},
   "outputs": [],
   "source": [
    "What is the right order for a text classification model components\n",
    "\n",
    "Text cleaning\n",
    "Text annotation\n",
    "Gradient descent\n",
    "Model tuning\n",
    "Text to predictors\n",
    "A) 12345\n",
    "B) 13425\n",
    "C) 12534\n",
    "D) 13452\n",
    "\n",
    "Solution: (C)\n",
    "\n",
    "A right text classification model contains – cleaning of text to remove noise, annotation to create more features, \n",
    "converting text-based features into predictors, learning a model using gradient descent and finally tuning a model.\n",
    "\n"
   ]
  },
  {
   "cell_type": "code",
   "execution_count": null,
   "metadata": {},
   "outputs": [],
   "source": [
    "20) Polysemy is defined as the coexistence of multiple meanings for a word or phrase in a text object. Which of the \n",
    "following models is likely the best choice to correct this problem?\n",
    "\n",
    "A) Random Forest Classifier\n",
    "B) Convolutional Neural Networks\n",
    "C) Gradient Boosting\n",
    "D) All of these\n",
    "\n",
    "Solution: (B)\n",
    "\n",
    "CNNs are popular choice for text classification problems because they take into consideration left and right contexts \n",
    "of the words as features which can solve the problem of polysemy"
   ]
  },
  {
   "cell_type": "code",
   "execution_count": null,
   "metadata": {},
   "outputs": [],
   "source": [
    " Which of the following models can be used for the purpose of document similarity?\n",
    "\n",
    "A) Training a word 2 vector model on the corpus that learns context present in the document\n",
    "B) Training a bag of words model that learns occurrence of words in the document\n",
    "C) Creating a document-term matrix and using cosine similarity for each document\n",
    "D) All of the above\n",
    "\n",
    "Solution: (D)\n",
    "\n",
    "word2vec model can be used for measuring document similarity based on context. Bag Of Words and document term matrix \n",
    "can be used for measuring similarity based on terms."
   ]
  },
  {
   "cell_type": "code",
   "execution_count": null,
   "metadata": {},
   "outputs": [],
   "source": [
    "What are the possible features of a text corpus\n",
    "\n",
    "Count of word in a document\n",
    "Boolean feature – presence of word in a document\n",
    "Vector notation of word\n",
    "Part of Speech Tag\n",
    "Basic Dependency Grammar\n",
    "Entire document as a feature\n",
    "A) 1\n",
    "B) 12\n",
    "C) 123\n",
    "D) 1234\n",
    "E) 12345\n",
    "F) 123456\n",
    "\n",
    "Solution: (E)\n",
    "\n",
    "Except for entire document as the feature, rest all can be used as features of text classification learning model.\n",
    "\n"
   ]
  },
  {
   "cell_type": "code",
   "execution_count": null,
   "metadata": {},
   "outputs": [],
   "source": [
    "\n",
    "23) While creating a machine learning model on text data, you created a document term matrix of the input data of 100K documents. Which of the following remedies can be used to reduce the dimensions of data –\n",
    "\n",
    "Latent Dirichlet Allocation\n",
    "Latent Semantic Indexing\n",
    "Keyword Normalization\n",
    "A) only 1\n",
    "B) 2, 3\n",
    "C) 1, 3\n",
    "D) 1, 2, 3\n",
    "\n",
    "Solution: (D)\n",
    "\n",
    "All of the techniques can be used to reduce the dimensions of the data."
   ]
  },
  {
   "cell_type": "code",
   "execution_count": null,
   "metadata": {},
   "outputs": [],
   "source": [
    "Google Search’s feature – “Did you mean”, is a mixture of different techniques. Which of the following techniques are \n",
    "likely to be ingredients?\n",
    "\n",
    "Collaborative Filtering model to detect similar user behaviors (queries)\n",
    "Model that checks for Levenshtein distance among the dictionary terms\n",
    "Translation of sentences into multiple languages\n",
    "A) 1\n",
    "B) 2\n",
    "C) 1, 2\n",
    "D) 1, 2, 3\n",
    "\n",
    "Solution: (C)\n",
    "\n",
    "Collaborative filtering can be used to check what are the patterns used by people, Levenshtein is used to measure the \n",
    "distance among dictionary terms."
   ]
  },
  {
   "cell_type": "code",
   "execution_count": null,
   "metadata": {},
   "outputs": [],
   "source": [
    "While working with text data obtained from news sentences, which are structured in nature, which of the grammar-based text parsing techniques can be used for noun phrase detection, verb phrase detection, subject detection and object detection.\n",
    "\n",
    "A) Part of speech tagging\n",
    "B) Dependency Parsing and Constituency Parsing\n",
    "C) Skip Gram and N-Gram extraction\n",
    "D) Continuous Bag of Words\n",
    "\n",
    "Solution: (B)\n",
    "\n",
    "Dependency and constituent parsing extract these relations from the text\n"
   ]
  },
  {
   "cell_type": "code",
   "execution_count": null,
   "metadata": {},
   "outputs": [],
   "source": [
    "26) Social Media platforms are the most intuitive form of text data. You are given a corpus of complete social media data of tweets. How can you create a model that suggests the hashtags?\n",
    "\n",
    "A) Perform Topic Models to obtain most significant words of the corpus\n",
    "B) Train a Bag of Ngrams model to capture top n-grams – words and their combinations\n",
    "C) Train a word2vector model to learn repeating contexts in the sentences\n",
    "D) All of these\n",
    "\n",
    "Solution: (D)\n",
    "\n",
    "All of the techniques can be used to extract most significant terms of a corpus.\n"
   ]
  },
  {
   "cell_type": "code",
   "execution_count": null,
   "metadata": {},
   "outputs": [],
   "source": [
    "\n",
    "27) While working with context extraction from a text data, you encountered two different sentences: The tank is full of soldiers. The tank is full of nitrogen. Which of the following measures can be used to remove the problem of word sense disambiguation in the sentences?\n",
    "\n",
    "A) Compare the dictionary definition of an ambiguous word with the terms contained in its neighborhood\n",
    "B) Co-reference resolution in which one resolute the meaning of ambiguous word with the proper noun present in the previous sentence\n",
    "C) Use dependency parsing of sentence to understand the meanings\n",
    "\n",
    "Solution: (A)\n",
    "\n",
    "Option 1 is called Lesk algorithm, used for word sense disambiguation, rest others cannot be used.\n",
    "\n",
    " "
   ]
  },
  {
   "cell_type": "code",
   "execution_count": null,
   "metadata": {},
   "outputs": [],
   "source": [
    "28) Collaborative Filtering and Content Based Models are the two popular recommendation engines, what role does NLP play in building such algorithms.\n",
    "\n",
    "A) Feature Extraction from text\n",
    "B) Measuring Feature Similarity\n",
    "C) Engineering Features for vector space learning model\n",
    "D) All of these\n",
    "\n",
    "Solution: (D)\n",
    "\n",
    "NLP can be used anywhere where text data is involved – feature extraction, measuring feature similarity, create vector features of the text.\n",
    "\n",
    " "
   ]
  },
  {
   "cell_type": "code",
   "execution_count": null,
   "metadata": {},
   "outputs": [],
   "source": [
    "\n",
    "29) Retrieval based models and Generative models are the two popular techniques used for building chatbots. Which of the following is an example of retrieval model and generative model respectively.\n",
    "\n",
    "A) Dictionary based learning and Word 2 vector model\n",
    "B) Rule-based learning and Sequence to Sequence model\n",
    "C) Word 2 vector and Sentence to Vector model\n",
    "D) Recurrent neural network and convolutional neural network\n",
    "\n",
    "Solution: (B)\n",
    "\n",
    "choice 2 best explains examples of retrieval based models and generative models\n",
    "\n",
    " "
   ]
  },
  {
   "cell_type": "code",
   "execution_count": null,
   "metadata": {},
   "outputs": [],
   "source": [
    "30) What is the major difference between CRF (Conditional Random Field) and HMM (Hidden Markov Model)?\n",
    "\n",
    "A) CRF is Generative whereas HMM is Discriminative model\n",
    "B) CRF is Discriminative whereas HMM is Generative model\n",
    "C) Both CRF and HMM are Generative model\n",
    "D) Both CRF and HMM are Discriminative model\n",
    "\n",
    "Solution: (B)\n",
    "\n",
    "Option B is correct\n",
    "\n",
    " "
   ]
  }
 ],
 "metadata": {
  "kernelspec": {
   "display_name": "Python 3",
   "language": "python",
   "name": "python3"
  },
  "language_info": {
   "codemirror_mode": {
    "name": "ipython",
    "version": 3
   },
   "file_extension": ".py",
   "mimetype": "text/x-python",
   "name": "python",
   "nbconvert_exporter": "python",
   "pygments_lexer": "ipython3",
   "version": "3.7.4"
  }
 },
 "nbformat": 4,
 "nbformat_minor": 2
}
